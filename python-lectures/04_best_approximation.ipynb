{
 "cells": [
  {
   "cell_type": "code",
   "execution_count": 1,
   "metadata": {
    "collapsed": true
   },
   "outputs": [],
   "source": [
    "import sympy as sym"
   ]
  },
  {
   "cell_type": "markdown",
   "metadata": {},
   "source": [
    "# Mindflow\n",
    "\n",
    "We want the best approximation of function $f$, on the space $V = \\mathrm{span}\\{v_i\\}$. Remeber that $p\\in V$ is best approximation of $f$ if and only if:\n",
    "\n",
    "$$\n",
    "(p-f,q)=0, \\quad \\forall q\\in V.\n",
    "$$\n",
    "\n",
    "Focus one second on the fact that both $p$ and $q$ belong to $V$. We know that any $q$ can be expressed as a linear combination of the basis functions $v_i$:\n",
    "\n",
    "$$\n",
    "(p-f,v_i)=0, \\quad \\forall v_i\\in V.\n",
    "$$\n",
    "\n",
    "Moreover $p$ is uniquely defined by the cofficents $p^j$ such that $p = p^j\\,v_j$. Collecting this information together we get:\n",
    "\n",
    "$$\n",
    "(v_j,v_i) p_j = (f,v_i),\\quad \\forall v_i\\in V.\n",
    "$$\n",
    "\n",
    "Now that we know our goal (finiding these $p^j$ coefficents) we do what the rangers do: we explore!\n",
    "\n",
    "We understaind that we will need to invert the matrix:\n",
    "\n",
    "$$\n",
    "M_{ij} = (v_j,v_i) = \\int v_i\\cdot v_j\n",
    "$$\n",
    "\n",
    "What happens if we choose basis functions such that $(v_j,v_i) =  \\delta_{ij}$?\n",
    "\n",
    "How to construct numerical techniques to evaluate integrals in an efficent way?\n",
    "\n",
    "Evaluate the $L^2$ projection."
   ]
  },
  {
   "cell_type": "markdown",
   "metadata": {},
   "source": [
    "## Orthogonal Polynomials\n",
    "\n",
    "$p_0(x) = 0$\n",
    "\n",
    "$$\n",
    "p_k(x) = x^k - \\sum_{j=0}^{k-1} \\frac{(x^k,p_j(x))}{(p_j(x),p_j(x))}\n",
    "$$"
   ]
  },
  {
   "cell_type": "code",
   "execution_count": 2,
   "metadata": {
    "collapsed": false
   },
   "outputs": [],
   "source": [
    "def scalar_prod(p0,p1):\n",
    "    return sym.integrate(p0*p1,(x,0,1))"
   ]
  },
  {
   "cell_type": "code",
   "execution_count": 7,
   "metadata": {
    "collapsed": false
   },
   "outputs": [
    {
     "name": "stdout",
     "output_type": "stream",
     "text": [
      "Matrix([[1, 0, 0, 0, 0], [0, 12, 0, 0, 0], [0, 0, 180, 0, 0], [0, 0, 0, 2800, 0], [0, 0, 0, 0, 44100]])\n"
     ]
    }
   ],
   "source": [
    "x = sym.symbols('x')\n",
    "k = 3\n",
    "\n",
    "Pk = [1]\n",
    "\n",
    "for k in xrange(1,5):\n",
    "    s = 0\n",
    "    for j in xrange(0,k):\n",
    "        s+= scalar_prod(x**k,Pk[j])/scalar_prod(Pk[j],Pk[j])*Pk[j]\n",
    "    pk = x**k-s\n",
    "    pk = pk/scalar_prod(pk,pk)\n",
    "    Pk.append(pk)\n",
    "\n",
    "\n",
    "Mij = []\n",
    "for i in xrange(len(Pk)):\n",
    "    row = []\n",
    "    for j in xrange(len(Pk)):\n",
    "        row.append(scalar_prod(Pk[i],Pk[j]))\n",
    "    Mij.append(row)\n",
    "\n",
    "Mij = sym.Matrix(Mij)\n",
    "\n",
    "print (Mij)\n"
   ]
  },
  {
   "cell_type": "code",
   "execution_count": null,
   "metadata": {
    "collapsed": false
   },
   "outputs": [],
   "source": []
  },
  {
   "cell_type": "code",
   "execution_count": null,
   "metadata": {
    "collapsed": true
   },
   "outputs": [],
   "source": []
  }
 ],
 "metadata": {
  "kernelspec": {
   "display_name": "Python 2",
   "language": "python",
   "name": "python2"
  },
  "language_info": {
   "codemirror_mode": {
    "name": "ipython",
    "version": 2
   },
   "file_extension": ".py",
   "mimetype": "text/x-python",
   "name": "python",
   "nbconvert_exporter": "python",
   "pygments_lexer": "ipython2",
   "version": "2.7.10"
  }
 },
 "nbformat": 4,
 "nbformat_minor": 0
}
