{
 "cells": [
  {
   "cell_type": "code",
   "execution_count": null,
   "metadata": {
    "collapsed": true
   },
   "outputs": [],
   "source": [
    "%matplotlib inline\n",
    "import sympy as sym\n",
    "import pylab as pl\n",
    "import numpy as np\n",
    "import numpy.polynomial.polynomial as n_poly\n",
    "import numpy.polynomial.legendre as leg"
   ]
  },
  {
   "cell_type": "markdown",
   "metadata": {},
   "source": [
    "# Mindflow\n",
    "\n",
    "We want the best approximation (in Hilbert Spaces) of the function $f$, on the space $V = \\mathrm{span}\\{v_i\\}$. Remeber that $p\\in V$ is best approximation of $f$ if and only if:\n",
    "\n",
    "$$\n",
    "(p-f,q)=0, \\quad \\forall q\\in V.\n",
    "$$\n",
    "\n",
    "Focus one second on the fact that both $p$ and $q$ belong to $V$. We know that any $q$ can be expressed as a linear combination of the basis functions $v_i$:\n",
    "\n",
    "$$\n",
    "(p-f,v_i)=0, \\quad \\forall v_i\\in V.\n",
    "$$\n",
    "\n",
    "Moreover $p$ is uniquely defined by the cofficents $p^j$ such that $p = p^j\\,v_j$. Collecting this information together we get:\n",
    "\n",
    "$$\n",
    "(v_j,v_i) p^j = (f,v_i),\\quad \\forall v_i\\in V.\n",
    "$$\n",
    "\n",
    "Now that we know our goal (finiding these $p^j$ coefficents) we do what the rangers do: we explore!\n",
    "\n",
    "We understaind that we will need to invert the matrix:\n",
    "\n",
    "$$\n",
    "M_{ij} = (v_j,v_i) = \\int v_i\\cdot v_j\n",
    "$$\n",
    "\n",
    "What happens if we choose basis functions such that $(v_j,v_i) =  \\delta_{ij}$?\n",
    "\n",
    "How to construct numerical techniques to evaluate integrals in an efficent way?\n",
    "\n",
    "Evaluate the $L^2$ projection."
   ]
  },
  {
   "cell_type": "markdown",
   "metadata": {},
   "source": [
    "## Orthogonal Polynomials\n",
    "\n",
    "Grham Schmidt\n",
    "\n",
    "$$\n",
    "p_0(x) = 1, \\qquad p_k(x) = x^k - \\sum_{j=0}^{k-1} \\frac{(x^k,p_j(x))}{(p_j(x),p_j(x))}\n",
    "$$\n",
    "\n",
    "or, alternatively\n",
    "\n",
    "$$\n",
    "p_0(x) = 1, \\qquad p_k(x) = x\\,p_{k-1}(x) - \\sum_{j=0}^{k-1} \\frac{(x p_{k-1}(x),p_j(x))}{(p_j(x),p_j(x))}\n",
    "$$"
   ]
  },
  {
   "cell_type": "code",
   "execution_count": null,
   "metadata": {
    "collapsed": false
   },
   "outputs": [],
   "source": [
    "def scalar_prod(p0,p1,a=0,b=1):\n",
    "    assert len(p0.free_symbols) <= 1, \"I can only do this for single variable functions...\"\n",
    "    t = p0.free_symbols.pop() if len(p0.free_symbols) == 1 else sym.symbols('t')\n",
    "    return sym.integrate(p0*p1,(t,a,b))"
   ]
  },
  {
   "cell_type": "code",
   "execution_count": null,
   "metadata": {
    "collapsed": false
   },
   "outputs": [],
   "source": [
    "t = sym.symbols('t')\n",
    "k = 3\n",
    "\n",
    "Pk = [1+0*t] # Force it to be a sympy expression\n",
    "\n",
    "for k in range(1,5):\n",
    "    s = 0\n",
    "    for j in range(0,k):\n",
    "        s+= scalar_prod(t**k,Pk[j])/scalar_prod(Pk[j],Pk[j])*Pk[j]\n",
    "    pk = t**k-s\n",
    "    pk = pk/sym.sqrt(scalar_prod(pk,pk))\n",
    "    fs = sym.lambdify(t, pk, 'numpy')\n",
    "    # pk = pk/fs(1.)\n",
    "    Pk.append(pk)\n",
    "\n",
    "\n",
    "M = []\n",
    "for i in range(len(Pk)):\n",
    "    row = []\n",
    "    for j in range(len(Pk)):\n",
    "        row.append(scalar_prod(Pk[i],Pk[j]))\n",
    "    M.append(row)\n",
    "\n",
    "M = sym.Matrix(M)\n",
    "\n",
    "print(M)\n",
    "\n",
    "x = np.linspace(0,1,100)\n",
    "\n",
    "for p in Pk:\n",
    "    if p != 1 :\n",
    "        fs = sym.lambdify(t, p, 'numpy')\n",
    "        #print x.shape\n",
    "        #print fs(x)\n",
    "        _ = pl.plot(x,fs(x))"
   ]
  },
  {
   "cell_type": "markdown",
   "metadata": {},
   "source": [
    "## Theorem\n",
    "\n",
    "Le $q$ be nonzero polynomial of degree $n+1$ and $\\omega(x)$ a positive weight function, s. t.:\n",
    "\n",
    "$$\n",
    "\\int_a^b x^k q(x)\\, \\omega(x) = 0, \\quad k = 0,\\ldots, n\n",
    "$$\n",
    "\n",
    "If $x_i$ are zeros of $q(x)$, then:\n",
    "\n",
    "$$\n",
    "\\int_a^b f(x)\\, \\omega(x)\\approx \\sum_{i=0}^nw_i\\, f(x_i)\n",
    "$$\n",
    "\n",
    "with:\n",
    "\n",
    "$$\n",
    "w_i = \\int_a^b l_i(x)\\, \\omega(x)\n",
    "$$\n",
    "\n",
    "is exact for all polynomials of degree at most $2n+1$. Here $l_i(x)$ are the usual Lagrange interpolation polynomials.\n",
    "\n",
    "**Proof:** assume $f(x)$ is a polynomial of degree at most $2n+1$ and show:\n",
    "$$\n",
    "\\int_a^b f(x)\\, \\omega(x) = \\sum_{i=0}^nw_i\\, f(x_i).\n",
    "$$\n",
    "Usign the polynomial division we have:\n",
    "$$\n",
    "\\underbrace{f(x)}_{2n+1} = \\underbrace{q(x)}_{n+1}\\, \\underbrace{p(x)}_{n} + \\underbrace{r(x)}_{n}.\n",
    "$$\n",
    "By taking $x_i$ as zeros of $q(x)$ we have:\n",
    "$$\n",
    "f(x_i) = r(x_i)\n",
    "$$\n",
    "Now:\n",
    "$$\n",
    "\\int_a^b f(x)\\, \\omega(x) = \\int_a^b [q(x)\\, p(x) + r(x)]\\, \\omega(x)\n",
    "$$\n",
    "$$\n",
    " = \\underbrace{\\int_a^b q(x)\\, p(x) \\, \\omega(x)}_{=0} + \\int_a^b r(x)\\, \\omega(x)\n",
    "$$\n",
    "Since $r(x)$ is a polynomial of order $n$ this is exact:\n",
    "\n",
    "$$\n",
    "\\int_a^b f(x)\\, \\omega(x) = \\int_a^b r(x)\\, \\omega(x) = \\sum_{i=0}^nw_i\\, r(x_i)\n",
    "$$\n",
    "\n",
    "But since we choosed $x_i$ such that $f(x_i) = r(x_i)$, we have:\n",
    "\n",
    "$$\n",
    "\\int_a^b f(x)\\, \\omega(x) = \\int_a^b r(x)\\, \\omega(x) = \\sum_{i=0}^nw_i\\, f(x_i) \n",
    "$$\n",
    "\n",
    "This completes the proof."
   ]
  },
  {
   "cell_type": "markdown",
   "metadata": {},
   "source": [
    "## Legendre Polynomial\n",
    "\n",
    "Two term recursion, to obtain the same orthogonal polynomials above (defined between [-1,1]), normalized to be one in $x=1$:\n",
    "\n",
    "$$\n",
    "(n+1) p^{n+1}(x) = (2n+1)\\, x\\, p^n(x) - n\\, p^{n-1}(x)\n",
    "$$"
   ]
  },
  {
   "cell_type": "code",
   "execution_count": null,
   "metadata": {
    "collapsed": false
   },
   "outputs": [],
   "source": [
    "Pn = [1.,t]\n",
    "\n",
    "#Pn = [1.,x, ((2*n+1)*x*Pn[n] - n*Pn[n-1])/(n+1.) for n in range(1,2)]\n",
    "\n",
    "for n in range(1,5):\n",
    "    pn1 = ((2*n+1)*t*Pn[n] - n*Pn[n-1])/(n+1.)\n",
    "    Pn.append(sym.simplify(pn1))\n",
    "    \n",
    "print(Pn)\n",
    "\n",
    "#print(sym.poly(p))\n",
    "#print(sym.real_roots(sym.poly(p)))\n",
    "print(sym.integrate(Pn[4]*Pn[3],(t,-1,1)))\n",
    "\n",
    "\n",
    "x = np.linspace(-1,1,100)\n",
    "for p in Pn:\n",
    "    if p != 1. :\n",
    "        fs = sym.lambdify(t, p, 'numpy')\n",
    "        #print x.shape\n",
    "        #print fs(x)\n",
    "        _ = pl.plot(x,fs(x))\n"
   ]
  },
  {
   "cell_type": "markdown",
   "metadata": {},
   "source": [
    "In our proof we selected to evaluate $x_i$ at the zeros of the legendre polynomials, this is why we need to evaluate the zeros of the polynomials."
   ]
  },
  {
   "cell_type": "code",
   "execution_count": null,
   "metadata": {
    "collapsed": false,
    "scrolled": true
   },
   "outputs": [],
   "source": [
    "print(sym.real_roots(sym.poly(Pn[2])))\n",
    "\n",
    "#q = [-1.]+sym.real_roots(sym.poly(Pn[2]))+[1.]\n",
    "q = sym.real_roots(sym.poly(Pn[3]))\n",
    "print(q)\n",
    "\n",
    "#for p in Pn:\n",
    "#    if p != 1. :\n",
    "#        #print(sym.poly(p))\n",
    "#        #print(sym.real_roots(sym.poly(p)))\n",
    "#        print(sym.nroots(sym.poly(p)))\n",
    "\n"
   ]
  },
  {
   "cell_type": "markdown",
   "metadata": {},
   "source": [
    "$$\n",
    "w_i = \\int_{-1}^{1} l_i(x)\n",
    "$$"
   ]
  },
  {
   "cell_type": "code",
   "execution_count": null,
   "metadata": {
    "collapsed": false
   },
   "outputs": [],
   "source": [
    "Lg = [1. for i in range(len(q))]\n",
    "print(Lg)\n",
    "\n",
    "#for i in range(n+1):\n",
    "for i in range(len(q)):\n",
    "    for j in range(len(q)):\n",
    "        if j != i:\n",
    "            Lg[i] *= (t-q[j])/(q[i]-q[j])\n",
    "\n",
    "print(Lg)\n",
    "\n",
    "x = np.linspace(-1,1,100)\n",
    "\n",
    "for l in Lg:\n",
    "    fs = sym.lambdify(t, l, 'numpy')\n",
    "    _ = pl.plot(x,fs(x))"
   ]
  },
  {
   "cell_type": "code",
   "execution_count": null,
   "metadata": {
    "collapsed": false
   },
   "outputs": [],
   "source": [
    "for l in Lg:\n",
    "    print(sym.integrate(l,(t,-1,1)))"
   ]
  },
  {
   "cell_type": "markdown",
   "metadata": {},
   "source": [
    "### Hint\n",
    "Proiezione usando polinomi LEGENDRE (f,v_i)"
   ]
  },
  {
   "cell_type": "markdown",
   "metadata": {},
   "source": [
    "# Now let's get Numerical\n",
    "\n",
    "From now on I work on the $[0,1]$ interval, becouse i like it this way :)\n",
    "\n",
    "\n",
    "\n",
    "In the previus section we explored what sympbolically was happening, now we implement things on the computer. We saw how important are the legendre plynomials. Here a little documentation on that. I pont it out not because you need to read it all, but because I would like you get some aquitance with this criptic documentation pages [doc](https://docs.scipy.org/doc/numpy/reference/generated/numpy.polynomial.legendre.legroots.html#numpy.polynomial.legendre.legroots).\n",
    "\n",
    "The problem we aim at solving is finding the coefficents $p_j$ such that:\n",
    "$$\n",
    "(v_j,v_i) p^j = (f,v_i),\\quad \\forall v_i\\in V.\n",
    "$$\n",
    "Remind in this section the einstein notation holds.\n",
    "\n",
    "We can expand the compact scalar product notation:\n",
    "$$\n",
    "p^j \\int_0^1 v_i\\, v_j = \\int_0^1 f\\, v_i,\\quad \\forall v_i\\in V.\n",
    "$$\n",
    "\n",
    "We consider $V = \\mathrm{span}\\{l_i\\}$. Our problem becomes:\n",
    "$$\n",
    "p^j \\int_0^1 l_i\\, l_j = \\int_0^1 f\\, l_i,\\quad \\mathrm{for}\\ i = 0,\\ldots,\\mathtt{deg}\n",
    "$$\n",
    "Let's focus on mass matrix:\n",
    "$$\n",
    "\\int_0^1 l_i(x)\\, l_j(x) = \\sum_k l_i(x_k)\\, w_k\\, l_j(x_k)\n",
    "$$"
   ]
  },
  {
   "cell_type": "code",
   "execution_count": null,
   "metadata": {
    "collapsed": true
   },
   "outputs": [],
   "source": [
    "def gauss_points(nq):\n",
    "    if nq==1:\n",
    "        return .5\n",
    "    elif q>1:\n",
    "        coeffs = np.zeros(nq+1)\n",
    "        coeffs[-1] = 1.\n",
    "        return .5* leg.legroots(coeffs)+.5"
   ]
  },
  {
   "cell_type": "code",
   "execution_count": null,
   "metadata": {
    "collapsed": false
   },
   "outputs": [],
   "source": [
    "print gauss_points(3)\n",
    "print(np.sqrt(3./5.)*.5)+.5"
   ]
  },
  {
   "cell_type": "code",
   "execution_count": null,
   "metadata": {
    "collapsed": true
   },
   "outputs": [],
   "source": [
    "def define_lagrange_basis_set(q):\n",
    "    n = q.shape[0]\n",
    "    L = [n_poly.Polynomial.fromroots([xj for xj in q if xj != q[i]]) for i in range(n)]\n",
    "    L = [L[i]/L[i](q[i]) for i in range(n)]\n",
    "    return L\n",
    "\n",
    "def define_legandre_basis_set(q):\n",
    "    #\n",
    "    #\n",
    "    return L"
   ]
  },
  {
   "cell_type": "markdown",
   "metadata": {},
   "source": [
    "differenza fra le roots \"simboliche\" e non"
   ]
  },
  {
   "cell_type": "code",
   "execution_count": null,
   "metadata": {
    "collapsed": false
   },
   "outputs": [],
   "source": [
    "deg = 4\n",
    "Nq = 10#deg+1\n",
    "p,w = leg.leggauss(Nq)\n",
    "w = .5 * w\n",
    "p = .5*(p+1)\n",
    "#print p\n",
    "#print w\n",
    "W = np.diag(w)\n",
    "#print W"
   ]
  },
  {
   "cell_type": "code",
   "execution_count": null,
   "metadata": {
    "collapsed": false
   },
   "outputs": [],
   "source": [
    "int_p = np.linspace(0,1,deg+1)\n",
    "L = define_lagrange_basis_set(int_p)\n",
    "\n",
    "print(len(L))\n",
    "\n",
    "x = np.linspace(0,1,1025)\n",
    "for f in L:\n",
    "    _ = pl.plot(x, f(x))\n",
    "_ = pl.plot(int_p, 0*int_p, 'ro')"
   ]
  },
  {
   "cell_type": "code",
   "execution_count": null,
   "metadata": {
    "collapsed": false
   },
   "outputs": [],
   "source": [
    "B = np.zeros((0,Nq))\n",
    "for l in L:\n",
    "    B = np.vstack([B,l(p)])"
   ]
  },
  {
   "cell_type": "markdown",
   "metadata": {},
   "source": [
    "Recall:\n",
    "$$\n",
    "B\\, W\\, B^T u = B W G\n",
    "$$"
   ]
  },
  {
   "cell_type": "code",
   "execution_count": null,
   "metadata": {
    "collapsed": false
   },
   "outputs": [],
   "source": [
    "print(B.shape)\n",
    "print(B)\n",
    "_ = pl.plot(B.T)\n",
    "M = B.dot(W.dot(B.T))\n",
    "print np.linalg.matrix_rank(M)\n",
    "print np.linalg.cond(M)"
   ]
  },
  {
   "cell_type": "code",
   "execution_count": null,
   "metadata": {
    "collapsed": true
   },
   "outputs": [],
   "source": [
    "def step_function():\n",
    "    def sf(x):    \n",
    "        index = where((x>.3) & (x<.7))\n",
    "        step = zeros(x.shape)\n",
    "        step[index] = 1\n",
    "        return step\n",
    "    return lambda x : sf(x)"
   ]
  },
  {
   "cell_type": "code",
   "execution_count": null,
   "metadata": {
    "collapsed": false
   },
   "outputs": [],
   "source": [
    "g = lambda x: np.sin(2*np.pi*x)\n",
    "#g = step_function()\n",
    "p = p.reshape((p.shape[0],1))\n",
    "\n",
    "G = g(p)\n",
    "print G.shape\n",
    "print B.shape\n",
    "print W.shape\n",
    "G = B.dot(W.dot(G))"
   ]
  },
  {
   "cell_type": "code",
   "execution_count": null,
   "metadata": {
    "collapsed": false
   },
   "outputs": [],
   "source": [
    "u = np.linalg.solve(M, G)\n",
    "print u"
   ]
  },
  {
   "cell_type": "code",
   "execution_count": null,
   "metadata": {
    "collapsed": true
   },
   "outputs": [],
   "source": [
    "def get_interpolating_function(LL,ui):\n",
    "    def func(LL,ui,x):\n",
    "        acc = 0\n",
    "        for L,u in zip(LL,ui):\n",
    "            #print(L,u)\n",
    "            acc+=u*L(x)\n",
    "        return acc\n",
    "    return lambda x : func(LL,ui,x)"
   ]
  },
  {
   "cell_type": "code",
   "execution_count": null,
   "metadata": {
    "collapsed": false
   },
   "outputs": [],
   "source": [
    "I = get_interpolating_function(L,u)\n",
    "sampling = np.linspace(0,1,101)\n",
    "_= pl.plot(sampling, I(sampling))\n",
    "#plot(xp, G,'ro')"
   ]
  },
  {
   "cell_type": "markdown",
   "metadata": {},
   "source": [
    "## Diference in between projection and interpolation runge example \n",
    "\n",
    "Proiezione usando polinomi LEGENDRE (f,v_i) con quadratura con 18 punti\n",
    "\n",
    "Interpolazione usando polinomi LAGRANGE (sui punti di quadratura che sono i punti di gauss della funzione sopra)"
   ]
  },
  {
   "cell_type": "code",
   "execution_count": null,
   "metadata": {
    "collapsed": true
   },
   "outputs": [],
   "source": []
  }
 ],
 "metadata": {
  "anaconda-cloud": {},
  "kernelspec": {
   "display_name": "Python [conda root]",
   "language": "python",
   "name": "conda-root-py"
  },
  "language_info": {
   "codemirror_mode": {
    "name": "ipython",
    "version": 3
   },
   "file_extension": ".py",
   "mimetype": "text/x-python",
   "name": "python",
   "nbconvert_exporter": "python",
   "pygments_lexer": "ipython3",
   "version": "3.5.2"
  }
 },
 "nbformat": 4,
 "nbformat_minor": 0
}
