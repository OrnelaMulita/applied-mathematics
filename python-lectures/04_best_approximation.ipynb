{
 "cells": [
  {
   "cell_type": "code",
   "execution_count": 1,
   "metadata": {
    "collapsed": true
   },
   "outputs": [],
   "source": [
    "%matplotlib inline\n",
    "import sympy as sym\n",
    "import pylab as pl\n",
    "import numpy as np\n",
    "import numpy.polynomial.polynomial as n_poly\n",
    "import numpy.polynomial.legendre as leg"
   ]
  },
  {
   "cell_type": "markdown",
   "metadata": {},
   "source": [
    "# Mindflow\n",
    "\n",
    "We want the best approximation of function $f$, on the space $V = \\mathrm{span}\\{v_i\\}$. Remeber that $p\\in V$ is best approximation of $f$ if and only if:\n",
    "\n",
    "$$\n",
    "(p-f,q)=0, \\quad \\forall q\\in V.\n",
    "$$\n",
    "\n",
    "Focus one second on the fact that both $p$ and $q$ belong to $V$. We know that any $q$ can be expressed as a linear combination of the basis functions $v_i$:\n",
    "\n",
    "$$\n",
    "(p-f,v_i)=0, \\quad \\forall v_i\\in V.\n",
    "$$\n",
    "\n",
    "Moreover $p$ is uniquely defined by the cofficents $p^j$ such that $p = p^j\\,v_j$. Collecting this information together we get:\n",
    "\n",
    "$$\n",
    "(v_j,v_i) p_j = (f,v_i),\\quad \\forall v_i\\in V.\n",
    "$$\n",
    "\n",
    "Now that we know our goal (finiding these $p^j$ coefficents) we do what the rangers do: we explore!\n",
    "\n",
    "We understaind that we will need to invert the matrix:\n",
    "\n",
    "$$\n",
    "M_{ij} = (v_j,v_i) = \\int v_i\\cdot v_j\n",
    "$$\n",
    "\n",
    "What happens if we choose basis functions such that $(v_j,v_i) =  \\delta_{ij}$?\n",
    "\n",
    "How to construct numerical techniques to evaluate integrals in an efficent way?\n",
    "\n",
    "Evaluate the $L^2$ projection."
   ]
  },
  {
   "cell_type": "markdown",
   "metadata": {},
   "source": [
    "## Orthogonal Polynomials\n",
    "\n",
    "$p_0(x) = 0$\n",
    "\n",
    "$$\n",
    "p_k(x) = x^k - \\sum_{j=0}^{k-1} \\frac{(x^k,p_j(x))}{(p_j(x),p_j(x))}\n",
    "$$"
   ]
  },
  {
   "cell_type": "code",
   "execution_count": 15,
   "metadata": {
    "collapsed": false
   },
   "outputs": [],
   "source": [
    "def scalar_prod(p0,p1):\n",
    "    return sym.integrate(p0*p1,(t,0,1))\n",
    "\n",
    "def scalar_prod_11(p0,p1):\n",
    "    return sym.integrate(p0*p1,(t,0,1))"
   ]
  },
  {
   "cell_type": "code",
   "execution_count": 16,
   "metadata": {
    "collapsed": false
   },
   "outputs": [
    {
     "data": {
      "image/png": "[encoded data removed]",
      "text/plain": [
       "<matplotlib.figure.Figure at 0x1139c7a90>"
      ]
     },
     "metadata": {},
     "output_type": "display_data"
    }
   ],
   "source": [
    "t = sym.symbols('t')\n",
    "k = 3\n",
    "\n",
    "Pk = [1]\n",
    "\n",
    "for k in xrange(1,5):\n",
    "    s = 0\n",
    "    for j in xrange(0,k):\n",
    "        s+= scalar_prod(t**k,Pk[j])/scalar_prod(Pk[j],Pk[j])*Pk[j]\n",
    "    pk = t**k-s\n",
    "    #pk = pk/sym.sqrt(scalar_prod(pk,pk))\n",
    "    fs = sym.lambdify(t, pk, 'numpy')\n",
    "    pk = pk/fs(-1.)\n",
    "    Pk.append(pk)\n",
    "\n",
    "\n",
    "Mij = []\n",
    "for i in xrange(len(Pk)):\n",
    "    row = []\n",
    "    for j in xrange(len(Pk)):\n",
    "        row.append(scalar_prod(Pk[i],Pk[j]))\n",
    "    Mij.append(row)\n",
    "\n",
    "Mij = sym.Matrix(Mij)\n",
    "Mij\n",
    "\n",
    "for p in Pk:\n",
    "    if p != 1 :\n",
    "        fs = sym.lambdify(t, p, 'numpy')\n",
    "        #print x.shape\n",
    "        #print fs(x)\n",
    "        _ = pl.plot(x,fs(x))"
   ]
  },
  {
   "cell_type": "markdown",
   "metadata": {},
   "source": [
    "$v_0 = 1/(b-a)$\n",
    "\n",
    "$$\n",
    "\\phi_{k+1} = x\\, \\phi_{k} - (x\\phi_k,\\phi_k)\\, \\phi_k\n",
    "$$\n",
    "\n",
    "$$\n",
    "v_{k+1} = \\phi_{k+1}/||\\phi_{k+1}||\n",
    "$$"
   ]
  },
  {
   "cell_type": "code",
   "execution_count": null,
   "metadata": {
    "collapsed": true
   },
   "outputs": [],
   "source": []
  },
  {
   "cell_type": "code",
   "execution_count": 17,
   "metadata": {
    "collapsed": false
   },
   "outputs": [
    {
     "name": "stdout",
     "output_type": "stream",
     "text": [
      "Matrix([[0.250000000000000, 90.2812499996612, -3516837146.15345, 2.07884467082179e+32, -4.29369694560258e+100, 3.78320113312617e+305], [90.2812499996612, 51923.0039058603, -2022618121191.33, 1.19559386107630e+35, -2.46940898545113e+103, 2.17581049390983e+308], [-3516837146.15345, -2022618121191.33, 7.87894335170668e+19, -4.65733803349891e+42, 9.61938059622697e+110, -8.47569170173713e+315], [2.07884467082179e+32, 1.19559386107630e+35, -4.65733803349891e+42, 2.75300844161762e+65, -5.68613138966216e+133, 5.01008314955848e+338], [-4.29369694560258e+100, -2.46940898545113e+103, 9.61938059622697e+110, -5.68613138966216e+133, 1.17442757137001e+202, -1.03479490403534e+407], [3.78320113312617e+305, 2.17581049390983e+308, -8.47569170173713e+315, 5.01008314955848e+338, -1.03479490403534e+407, 9.11763755825643e+611]])\n"
     ]
    },
    {
     "data": {
      "image/png": "[encoded data removed]",
      "text/plain": [
       "<matplotlib.figure.Figure at 0x113f7ab50>"
      ]
     },
     "metadata": {},
     "output_type": "display_data"
    }
   ],
   "source": [
    "Phi = [.5]\n",
    "\n",
    "for k in xrange(0,5):\n",
    "    phi = t*Phi[k] - scalar_prod_11(t*Phi[k],Phi[k])*Phi[k]\n",
    "    phi = phi/sym.sqrt(scalar_prod_11(pk,pk))\n",
    "    Phi.append(phi)\n",
    "\n",
    "Mij = []\n",
    "for i in xrange(len(Phi)):\n",
    "    row = []\n",
    "    for j in xrange(len(Phi)):\n",
    "        row.append(scalar_prod_11(Phi[i],Phi[j]))\n",
    "    Mij.append(row)\n",
    "\n",
    "Mij = sym.Matrix(Mij)\n",
    "print(Mij)\n",
    "\n",
    "x = np.linspace(-1,1,100)\n",
    "\n",
    "for p in Phi:\n",
    "    if p != .5 :\n",
    "        fs = sym.lambdify(t, p, 'numpy')\n",
    "        #print x.shape\n",
    "        #print fs(x)\n",
    "        _ = pl.plot(x,fs(x))\n",
    "\n"
   ]
  },
  {
   "cell_type": "markdown",
   "metadata": {},
   "source": [
    "## Th\n",
    "\n",
    "Le $q$ be nonzero polynomial of degree $n+1$ and $\\omega(x)$ a positive weight function, s. t.:\n",
    "\n",
    "$$\n",
    "\\int_a^b x^k q(x)\\, \\omega(x) = 0, \\quad k = 0,\\ldots, n\n",
    "$$\n",
    "\n",
    "If $x_i$ are zeros of $q(x)$, then:\n",
    "\n",
    "$$\n",
    "\\int_a^b f(x)\\, \\omega(x)\\approx \\sum_{i=0}^nw_i\\, f(x_i)\n",
    "$$\n",
    "\n",
    "with:\n",
    "\n",
    "$$\n",
    "w_i = \\int_a^b l_i(x)\\, \\omega(x)\n",
    "$$\n",
    "\n",
    "is exact for all polynomials of degree at most $2n+1$. Here $l_i(x)$ are the usual Lagrange interpolation polynomials.\n",
    "\n",
    "**Proof:** assume $f(x)$ is a polynomial of degree at most $2n+1$ and show:\n",
    "$$\n",
    "\\int_a^b f(x)\\, \\omega(x) = \\sum_{i=0}^nw_i\\, f(x_i).\n",
    "$$\n",
    "Usign the polynomial division we have:\n",
    "$$\n",
    "\\underbrace{f(x)}_{2n+1} = \\underbrace{q(x)}_{n+1}\\, \\underbrace{p(x)}_{n} + \\underbrace{r(x)}_{n}.\n",
    "$$\n",
    "By taking $x_i$ as zeros of $q(x)$ we have:\n",
    "$$\n",
    "f(x_i) = r(x_i)\n",
    "$$\n",
    "Now:\n",
    "$$\n",
    "\\int_a^b f(x)\\, \\omega(x) = \\int_a^b [q(x)\\, p(x) + r(x)]\\, \\omega(x)\n",
    "$$\n",
    "$$\n",
    " = \\underbrace{\\int_a^b q(x)\\, p(x) \\, \\omega(x)}_{=0} + \\int_a^b r(x)\\, \\omega(x)\n",
    "$$\n",
    "Since $r(x)$ is a polynomial of order $n$ this is exact:\n",
    "\n",
    "$$\n",
    "\\int_a^b f(x)\\, \\omega(x) = \\int_a^b r(x)\\, \\omega(x) = \\sum_{i=0}^nw_i\\, r(x_i)\n",
    "$$\n",
    "\n",
    "But since we choosed $x_i$ such that $f(x_i) = r(x_i)$, we have:\n",
    "\n",
    "$$\n",
    "\\int_a^b f(x)\\, \\omega(x) = \\int_a^b r(x)\\, \\omega(x) = \\sum_{i=0}^nw_i\\, f(x_i) \n",
    "$$\n",
    "\n",
    "This completes the proof."
   ]
  },
  {
   "cell_type": "markdown",
   "metadata": {},
   "source": [
    "## Legendre Polynomial\n",
    "\n",
    "alternatively:\n",
    "\n",
    "$$\n",
    "v_{k+1} = \\phi_{k+1}/\\phi_{k+1}(1)\n",
    "$$\n",
    "\n",
    "$$\n",
    "(n+1) P^{n+1}(x) = (2n+1)\\, x\\, P^n(x) - n\\, P^{n-1}(x)\n",
    "$$"
   ]
  },
  {
   "cell_type": "code",
   "execution_count": null,
   "metadata": {
    "collapsed": false
   },
   "outputs": [],
   "source": [
    "Pn = [1.,t]\n",
    "\n",
    "#Pn = [1.,x, ((2*n+1)*x*Pn[n] - n*Pn[n-1])/(n+1.) for n in range(1,2)]\n",
    "\n",
    "for n in xrange(1,5):\n",
    "    pn1 = ((2*n+1)*t*Pn[n] - n*Pn[n-1])/(n+1.)\n",
    "    Pn.append(sym.simplify(pn1))\n",
    "    \n",
    "print Pn\n",
    "\n",
    "#print(sym.poly(p))\n",
    "#print(sym.real_roots(sym.poly(p)))\n",
    "print(sym.integrate(Pn[4]*Pn[3],(t,-1,1)))\n",
    "\n",
    "for p in Pn:\n",
    "    if p != 1. :\n",
    "        fs = sym.lambdify(t, p, 'numpy')\n",
    "        #print x.shape\n",
    "        #print fs(x)\n",
    "        _ = pl.plot(x,fs(x))\n"
   ]
  },
  {
   "cell_type": "markdown",
   "metadata": {},
   "source": [
    "Quadrature points roots of the Legendre polynomial. Why is that important?"
   ]
  },
  {
   "cell_type": "code",
   "execution_count": null,
   "metadata": {
    "collapsed": false,
    "scrolled": true
   },
   "outputs": [],
   "source": [
    "print(sym.real_roots(sym.poly(Pn[2])))\n",
    "\n",
    "#q = [-1.]+sym.real_roots(sym.poly(Pn[2]))+[1.]\n",
    "q = sym.real_roots(sym.poly(Pn[3]))\n",
    "print(q)\n",
    "\n",
    "#for p in Pn:\n",
    "#    if p != 1. :\n",
    "#        #print(sym.poly(p))\n",
    "#        #print(sym.real_roots(sym.poly(p)))\n",
    "#        print(sym.nroots(sym.poly(p)))\n",
    "\n",
    "Lg = [1. for i in xrange(len(q))]\n",
    "print(Lg)\n",
    "\n",
    "#for i in xrange(n+1):\n",
    "for i in xrange(len(q)):\n",
    "    for j in xrange(len(q)):\n",
    "        if j != i:\n",
    "            Lg[i] *= (t-q[j])/(q[i]-q[j])\n",
    "\n",
    "print(Lg)\n",
    "\n",
    "x = np.linspace(-1,1,100)\n",
    "\n",
    "for l in Lg:\n",
    "    fs = sym.lambdify(t, l, 'numpy')\n",
    "    _ = pl.plot(x,fs(x))"
   ]
  },
  {
   "cell_type": "markdown",
   "metadata": {},
   "source": [
    "$$\n",
    "w_i = \\int_{-1}^{1} l_i(x)\n",
    "$$"
   ]
  },
  {
   "cell_type": "code",
   "execution_count": null,
   "metadata": {
    "collapsed": false
   },
   "outputs": [],
   "source": [
    "for l in Lg:\n",
    "    print(sym.integrate(l,(t,-1,1)))"
   ]
  },
  {
   "cell_type": "markdown",
   "metadata": {},
   "source": [
    "### Hint\n",
    "Proiezione usando polinomi LEGENDRE (f,v_i)"
   ]
  },
  {
   "cell_type": "markdown",
   "metadata": {},
   "source": [
    "# Now let's get Numerical\n",
    "\n",
    "From now on I work on the $[0,1]$ interval, becouse i like it this way :)\n",
    "\n",
    "[doc](https://docs.scipy.org/doc/numpy/reference/generated/numpy.polynomial.legendre.legroots.html#numpy.polynomial.legendre.legroots)"
   ]
  },
  {
   "cell_type": "code",
   "execution_count": null,
   "metadata": {
    "collapsed": true
   },
   "outputs": [],
   "source": [
    "def gauss_points(nq):\n",
    "    if nq==1:\n",
    "        return 0\n",
    "    elif q>1:\n",
    "        coeffs = np.zeros(nq+1)\n",
    "        coeffs[-1] = 1.\n",
    "        return .5* leg.legroots(coeffs)+.5"
   ]
  },
  {
   "cell_type": "code",
   "execution_count": null,
   "metadata": {
    "collapsed": false
   },
   "outputs": [],
   "source": [
    "print gauss_points(3)\n",
    "print(np.sqrt(3./5.)*.5)+.5"
   ]
  },
  {
   "cell_type": "code",
   "execution_count": null,
   "metadata": {
    "collapsed": true
   },
   "outputs": [],
   "source": [
    "def define_lagrange_basis_set(q):\n",
    "    n = q.shape[0]\n",
    "    L = [n_poly.Polynomial.fromroots([xj for xj in q if xj != q[i]]) for i in xrange(n)]\n",
    "    L = [L[i]/L[i](q[i]) for i in range(n)]\n",
    "    return L\n",
    "\n",
    "def define_legandre_basis_set(q):\n",
    "    #\n",
    "    #\n",
    "    return L"
   ]
  },
  {
   "cell_type": "markdown",
   "metadata": {},
   "source": [
    "differenza fra le roots \"simboliche\" e non"
   ]
  },
  {
   "cell_type": "code",
   "execution_count": null,
   "metadata": {
    "collapsed": false
   },
   "outputs": [],
   "source": [
    "Nq = n+1\n",
    "p,w = leg.leggauss(Nq)\n",
    "w = .5 * w\n",
    "p = .5*(p+1)\n",
    "#print p\n",
    "#print w\n",
    "W = np.diag(w)\n",
    "#print W"
   ]
  },
  {
   "cell_type": "code",
   "execution_count": null,
   "metadata": {
    "collapsed": true
   },
   "outputs": [],
   "source": []
  },
  {
   "cell_type": "code",
   "execution_count": null,
   "metadata": {
    "collapsed": false
   },
   "outputs": [],
   "source": [
    "B = zeros((n,Nq))\n",
    "for i in range(n):\n",
    "    B[i,:] = L[i](p)"
   ]
  },
  {
   "cell_type": "markdown",
   "metadata": {},
   "source": [
    "## Diference in between projection and interpolation runge example \n",
    "\n",
    "Proiezione usando polinomi LEGENDRE (f,v_i) con quadratura con 18 punti\n",
    "\n",
    "Interpolazione usando polinomi LAGRANGE (sui punti di quadratura che sono i punti di gauss della funzione sopra)"
   ]
  },
  {
   "cell_type": "code",
   "execution_count": null,
   "metadata": {
    "collapsed": true
   },
   "outputs": [],
   "source": []
  }
 ],
 "metadata": {
  "kernelspec": {
   "display_name": "Python 2",
   "language": "python",
   "name": "python2"
  },
  "language_info": {
   "codemirror_mode": {
    "name": "ipython",
    "version": 2
   },
   "file_extension": ".py",
   "mimetype": "text/x-python",
   "name": "python",
   "nbconvert_exporter": "python",
   "pygments_lexer": "ipython2",
   "version": "2.7.10"
  }
 },
 "nbformat": 4,
 "nbformat_minor": 0
}
