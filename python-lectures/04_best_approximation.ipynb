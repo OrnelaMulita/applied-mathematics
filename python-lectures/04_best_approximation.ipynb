{
 "cells": [
  {
   "cell_type": "markdown",
   "metadata": {},
   "source": [
    "# Mindflow\n",
    "\n",
    "We want the best approximation of function $f$, on the space $V = \\mathrm{span}\\{v_i\\}$. Remeber that $p\\in V$ is best approximation of $f$ if and only if:\n",
    "\n",
    "$$\n",
    "(p-f,q)=0, \\quad \\forall q\\in V.\n",
    "$$\n",
    "\n",
    "Focus one second on the fact that both $p$ and $q$ belong to $V$. We know that any $q$ can be expressed as a linear combination of the basis functions $v_i$:\n",
    "\n",
    "$$\n",
    "(p-f,v_i)=0, \\quad \\forall v_i\\in V.\n",
    "$$\n",
    "\n",
    "Moreover $p$ is uniquely defined by the cofficents $p^j$ such that $p = p^j\\,v_j$. Collecting this information together we get:\n",
    "\n",
    "$$\n",
    "(v_j,v_i) p_j = (f,v_i),\\quad \\forall v_i\\in V.\n",
    "$$\n",
    "\n",
    "Now that we know our goal (finiding these $p^j$ coefficents) we do what the rangers do: we explore!\n",
    "\n",
    "What happens if we choose basis functions such that $(v_j,v_i) =  \\delta_{ij}$?\n",
    "\n",
    "How to construct numerical techniques to evaluate integrals in an efficent way?\n",
    "\n",
    "Evaluate the $L^2$ projection."
   ]
  },
  {
   "cell_type": "code",
   "execution_count": null,
   "metadata": {
    "collapsed": true
   },
   "outputs": [],
   "source": []
  }
 ],
 "metadata": {
  "kernelspec": {
   "display_name": "Python 2",
   "language": "python",
   "name": "python2"
  },
  "language_info": {
   "codemirror_mode": {
    "name": "ipython",
    "version": 2
   },
   "file_extension": ".py",
   "mimetype": "text/x-python",
   "name": "python",
   "nbconvert_exporter": "python",
   "pygments_lexer": "ipython2",
   "version": "2.7.10"
  }
 },
 "nbformat": 4,
 "nbformat_minor": 0
}
